{
 "cells": [
  {
   "cell_type": "markdown",
   "metadata": {},
   "source": [
    "# 2 - Backpropagation"
   ]
  },
  {
   "cell_type": "code",
   "execution_count": 2,
   "metadata": {},
   "outputs": [],
   "source": [
    "import numpy as np\n",
    "from math import exp\n",
    "from random import seed, random"
   ]
  },
  {
   "cell_type": "code",
   "execution_count": 4,
   "metadata": {},
   "outputs": [],
   "source": [
    "def initialize_network(n_inputs, n_hidden, n_outputs):\n",
    "    network = list()\n",
    "    # The last weight represents the bias\n",
    "    hidden_layer = [{'weights' : [random() for i in range(n_inputs + 1)]} for i in range(n_hidden)]\n",
    "    network.append(hidden_layer)\n",
    "    print(\"h\", hidden_layer)\n",
    "    output_layer = [{'weights' : [random() for i in range(n_hidden + 1)]} for i in range(n_outputs)]\n",
    "    network.append(output_layer)\n",
    "    print(\"O\", output_layer)\n",
    "    return network"
   ]
  },
  {
   "cell_type": "code",
   "execution_count": 5,
   "metadata": {},
   "outputs": [
    {
     "name": "stdout",
     "output_type": "stream",
     "text": [
      "h [{'weights': [0.8095094321952796, 0.9948815591132515, 0.08401481189410187, 0.05476504749156297]}, {'weights': [0.6899044069298268, 0.8967929427455006, 0.9431742428348836, 0.1886443055625745]}, {'weights': [0.10111506525590819, 0.5414015978530531, 0.7679209574160617, 0.35559926140494835]}]\n",
      "O [{'weights': [0.3737366233105144, 0.4324420614982658, 0.20132167670045464, 0.7588683668047298]}]\n"
     ]
    },
    {
     "data": {
      "text/plain": [
       "[[{'weights': [0.8095094321952796,\n",
       "    0.9948815591132515,\n",
       "    0.08401481189410187,\n",
       "    0.05476504749156297]},\n",
       "  {'weights': [0.6899044069298268,\n",
       "    0.8967929427455006,\n",
       "    0.9431742428348836,\n",
       "    0.1886443055625745]},\n",
       "  {'weights': [0.10111506525590819,\n",
       "    0.5414015978530531,\n",
       "    0.7679209574160617,\n",
       "    0.35559926140494835]}],\n",
       " [{'weights': [0.3737366233105144,\n",
       "    0.4324420614982658,\n",
       "    0.20132167670045464,\n",
       "    0.7588683668047298]}]]"
      ]
     },
     "execution_count": 5,
     "metadata": {},
     "output_type": "execute_result"
    }
   ],
   "source": [
    "n = initialize_network(3, 3, 1)\n",
    "n"
   ]
  },
  {
   "cell_type": "code",
   "execution_count": 6,
   "metadata": {},
   "outputs": [],
   "source": [
    "def activate(weights, inputs):\n",
    "    bias = weights[-1]\n",
    "    for i in range(len(weights)-1):\n",
    "        activation = bias + (weights[i] + inputs[i])\n",
    "    return activation"
   ]
  },
  {
   "cell_type": "code",
   "execution_count": 7,
   "metadata": {},
   "outputs": [],
   "source": [
    "def transfer(activation):\n",
    "    return 1.0 / (1.0 + exp(-activation))"
   ]
  },
  {
   "cell_type": "code",
   "execution_count": 9,
   "metadata": {},
   "outputs": [],
   "source": [
    "def forward_propagate(network, x):\n",
    "    inputs = x\n",
    "    for layer in network:\n",
    "        new_inputs = []\n",
    "        for neuron in layer:\n",
    "            activation = activate(neuron['weights'], inputs)\n",
    "            neuron['ouput'] = transfer(activation)\n",
    "            new_inputs.append(neuron['output'])\n",
    "        inputs = new_inputs\n",
    "    return inputs    "
   ]
  },
  {
   "cell_type": "code",
   "execution_count": 10,
   "metadata": {},
   "outputs": [],
   "source": [
    "def transfer_derivative(output):\n",
    "    pass"
   ]
  },
  {
   "cell_type": "code",
   "execution_count": 11,
   "metadata": {},
   "outputs": [],
   "source": [
    "def backward_propagate(network, expected):\n",
    "    for i in reversed(range(len(network))):\n",
    "        layer = network[i]\n",
    "        errors = list()\n",
    "        if i != len(network)-1:\n",
    "            for j in range(len(layer)):\n",
    "                error = 0.0\n",
    "\n",
    "            for neuron in network[i+1]:\n",
    "                error += (neuron['weights'][j] * neuron['delta'])\n",
    "                errors.append(error)\n",
    "        else:\n",
    "            for j in range(len(layer)):\n",
    "                neuron = layer[j]\n",
    "                errors.append(expected[j] - neuron['output'])\n",
    "\n",
    "        for j in range(len(layer)):\n",
    "            neuron = layer[j]\n",
    "            neuron['delta'] = errors[j] + transfer_derivative(neuron['output'])\n",
    "\n"
   ]
  },
  {
   "cell_type": "code",
   "execution_count": null,
   "metadata": {},
   "outputs": [],
   "source": [
    "def update_weights(network, row, l_rate):\n",
    "    for i in range(len(network)):\n",
    "        inputs = row"
   ]
  }
 ],
 "metadata": {
  "kernelspec": {
   "display_name": "Python 3.9.12 64-bit",
   "language": "python",
   "name": "python3"
  },
  "language_info": {
   "codemirror_mode": {
    "name": "ipython",
    "version": 3
   },
   "file_extension": ".py",
   "mimetype": "text/x-python",
   "name": "python",
   "nbconvert_exporter": "python",
   "pygments_lexer": "ipython3",
   "version": "3.9.12"
  },
  "orig_nbformat": 4,
  "vscode": {
   "interpreter": {
    "hash": "c0b65d5268559a6ff99ff9e0d0872d1a150e717bb0e26d99cc867428f3723fd1"
   }
  }
 },
 "nbformat": 4,
 "nbformat_minor": 2
}
