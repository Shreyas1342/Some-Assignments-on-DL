{
 "cells": [
  {
   "cell_type": "markdown",
   "metadata": {},
   "source": [
    "# Perceptron"
   ]
  },
  {
   "cell_type": "code",
   "execution_count": 1,
   "metadata": {},
   "outputs": [],
   "source": [
    "import numpy as np\n",
    "from math import exp\n",
    "from random import seed, random"
   ]
  },
  {
   "cell_type": "markdown",
   "metadata": {},
   "source": [
    "Let us create the data set"
   ]
  },
  {
   "cell_type": "markdown",
   "metadata": {},
   "source": [
    "### OR gate\n"
   ]
  },
  {
   "cell_type": "code",
   "execution_count": 2,
   "metadata": {},
   "outputs": [
    {
     "data": {
      "text/plain": [
       "[[1, 1], [1, 0], [0, 1], [0, 0]]"
      ]
     },
     "execution_count": 2,
     "metadata": {},
     "output_type": "execute_result"
    }
   ],
   "source": [
    "seed(1)\n",
    "# Binary Input\n",
    "x = [\n",
    "    [1, 1],\n",
    "    [1, 0],\n",
    "    [0, 1],\n",
    "    [0, 0]\n",
    "]\n",
    "x"
   ]
  },
  {
   "cell_type": "code",
   "execution_count": 3,
   "metadata": {},
   "outputs": [
    {
     "data": {
      "text/plain": [
       "array([ 1,  1,  1, -1])"
      ]
     },
     "execution_count": 3,
     "metadata": {},
     "output_type": "execute_result"
    }
   ],
   "source": [
    "# Bipolar output\n",
    "t = np.array([1, 1 , 1, -1])\n",
    "t"
   ]
  },
  {
   "cell_type": "code",
   "execution_count": 4,
   "metadata": {},
   "outputs": [
    {
     "name": "stdout",
     "output_type": "stream",
     "text": [
      "[0. 0.]\n"
     ]
    }
   ],
   "source": [
    "# Initialize weights\n",
    "w = np.zeros(2)\n",
    "print(w)\n",
    "\n",
    "b = 0\n",
    "eta = 1\n",
    "yin = np.array([0, 0, 0, 0]) "
   ]
  },
  {
   "cell_type": "code",
   "execution_count": 5,
   "metadata": {},
   "outputs": [
    {
     "name": "stdout",
     "output_type": "stream",
     "text": [
      "x1   x2   w1   w2   b   y   t\n",
      "Epoch:  1\n",
      "1   1   1.0   1.0   1   -1   1\n",
      "1   0   1.0   1.0   1   1   1\n",
      "0   1   1.0   1.0   1   1   1\n",
      "0   0   1.0   1.0   0   1   -1\n",
      "Epoch:  2\n",
      "1   1   1.0   1.0   0   1   1\n",
      "1   0   1.0   1.0   0   1   1\n",
      "0   1   1.0   1.0   0   1   1\n",
      "0   0   1.0   1.0   0   -1   -1\n",
      "Epoch:  3\n",
      "1   1   1.0   1.0   0   1   1\n",
      "1   0   1.0   1.0   0   1   1\n",
      "0   1   1.0   1.0   0   1   1\n",
      "0   0   1.0   1.0   0   -1   -1\n"
     ]
    }
   ],
   "source": [
    "# Method to update the weights\n",
    "epoch = 3\n",
    "num_itr = 4 #Num of patterns \n",
    "print(\"x1   x2   w1   w2   b   y   t\")\n",
    "for j in range(epoch):\n",
    "    print(\"Epoch: \", j+1)\n",
    "    for i in range(0, num_itr):\n",
    "        yin[i] = b + (x[i][0] * w[0]) + (x[i][1] * w[1])\n",
    "        # Threshold Checking\n",
    "        # If yin is greater than threshold than value is 1 otherwise it is 0\n",
    "        thresh = 0.2\n",
    "        yin[i] = np.where(yin[i]> thresh, 1, -1)\n",
    "        # Checking with the values\n",
    "        # Weight updation\n",
    "        if (t[i] != yin[i]):\n",
    "            w[0] = w[0] + eta * x[i][0] * t[i]\n",
    "            w[1] = w[1] + eta * x[i][1] * t[i]\n",
    "            b = b + eta * t[i]\n",
    "        print(x[i][0], \" \", x[i][1], \" \", w[0], \" \", w[1], \" \", b, \" \", yin[i], \" \", t[i])\n",
    "\n"
   ]
  },
  {
   "cell_type": "markdown",
   "metadata": {},
   "source": [
    "### AND Gate\n"
   ]
  },
  {
   "cell_type": "code",
   "execution_count": 6,
   "metadata": {},
   "outputs": [
    {
     "data": {
      "text/plain": [
       "[[1, 1], [1, 0], [0, 1], [0, 0]]"
      ]
     },
     "execution_count": 6,
     "metadata": {},
     "output_type": "execute_result"
    }
   ],
   "source": [
    "seed(1)\n",
    "# Binary Input\n",
    "x = [\n",
    "    [1, 1],\n",
    "    [1, 0],\n",
    "    [0, 1],\n",
    "    [0, 0]\n",
    "]\n",
    "x"
   ]
  },
  {
   "cell_type": "code",
   "execution_count": 7,
   "metadata": {},
   "outputs": [
    {
     "data": {
      "text/plain": [
       "array([ 1, -1, -1, -1])"
      ]
     },
     "execution_count": 7,
     "metadata": {},
     "output_type": "execute_result"
    }
   ],
   "source": [
    "# Bipolar output\n",
    "t = np.array([1, -1 , -1, -1])\n",
    "t"
   ]
  },
  {
   "cell_type": "code",
   "execution_count": 8,
   "metadata": {},
   "outputs": [
    {
     "name": "stdout",
     "output_type": "stream",
     "text": [
      "[0. 0.]\n"
     ]
    }
   ],
   "source": [
    "# Initialize weights\n",
    "w = np.zeros(2)\n",
    "print(w)\n",
    "\n",
    "b = 0\n",
    "eta = 1\n",
    "yin = np.array([0, 0, 0, 0]) "
   ]
  },
  {
   "cell_type": "code",
   "execution_count": 9,
   "metadata": {},
   "outputs": [
    {
     "name": "stdout",
     "output_type": "stream",
     "text": [
      "x1   x2   w1   w2   b   y   t\n",
      "Epoch:  1\n",
      "1   1   1.0   1.0   1   -1   1\n",
      "1   0   0.0   1.0   0   1   -1\n",
      "0   1   0.0   0.0   -1   1   -1\n",
      "0   0   0.0   0.0   -1   -1   -1\n",
      "Epoch:  2\n",
      "1   1   1.0   1.0   0   -1   1\n",
      "1   0   0.0   1.0   -1   1   -1\n",
      "0   1   0.0   1.0   -1   -1   -1\n",
      "0   0   0.0   1.0   -1   -1   -1\n",
      "Epoch:  3\n",
      "1   1   1.0   2.0   0   -1   1\n",
      "1   0   0.0   2.0   -1   1   -1\n",
      "0   1   0.0   1.0   -2   1   -1\n",
      "0   0   0.0   1.0   -2   -1   -1\n",
      "Epoch:  4\n",
      "1   1   1.0   2.0   -1   -1   1\n",
      "1   0   1.0   2.0   -1   -1   -1\n",
      "0   1   1.0   1.0   -2   1   -1\n",
      "0   0   1.0   1.0   -2   -1   -1\n",
      "Epoch:  5\n",
      "1   1   2.0   2.0   -1   -1   1\n",
      "1   0   1.0   2.0   -2   1   -1\n",
      "0   1   1.0   2.0   -2   -1   -1\n",
      "0   0   1.0   2.0   -2   -1   -1\n",
      "Epoch:  6\n",
      "1   1   1.0   2.0   -2   1   1\n",
      "1   0   1.0   2.0   -2   -1   -1\n",
      "0   1   1.0   2.0   -2   -1   -1\n",
      "0   0   1.0   2.0   -2   -1   -1\n"
     ]
    }
   ],
   "source": [
    "# Method to update the weights\n",
    "epoch = 6\n",
    "num_itr = 4 #Num of patterns \n",
    "print(\"x1   x2   w1   w2   b   y   t\")\n",
    "for j in range(epoch):\n",
    "    print(\"Epoch: \", j+1)\n",
    "    for i in range(0, num_itr):\n",
    "        yin[i] = b + (x[i][0] * w[0]) + (x[i][1] * w[1])\n",
    "        # Threshold Checking\n",
    "        # If yin is greater than threshold than value is 1 otherwise it is 0\n",
    "        thresh = 0.2\n",
    "        yin[i] = np.where(yin[i]> thresh, 1, -1)\n",
    "        # Checking with the values\n",
    "        # Weight updation\n",
    "        if (t[i] != yin[i]):\n",
    "            w[0] = w[0] + eta * x[i][0] * t[i]\n",
    "            w[1] = w[1] + eta * x[i][1] * t[i]\n",
    "            b = b + eta * t[i]\n",
    "        print(x[i][0], \" \", x[i][1], \" \", w[0], \" \", w[1], \" \", b, \" \", yin[i], \" \", t[i])\n",
    "\n"
   ]
  },
  {
   "cell_type": "code",
   "execution_count": null,
   "metadata": {},
   "outputs": [],
   "source": []
  }
 ],
 "metadata": {
  "kernelspec": {
   "display_name": "Python 3.8.10 64-bit ('env1': venv)",
   "language": "python",
   "name": "python3"
  },
  "language_info": {
   "codemirror_mode": {
    "name": "ipython",
    "version": 3
   },
   "file_extension": ".py",
   "mimetype": "text/x-python",
   "name": "python",
   "nbconvert_exporter": "python",
   "pygments_lexer": "ipython3",
   "version": "3.8.10"
  },
  "orig_nbformat": 4,
  "vscode": {
   "interpreter": {
    "hash": "8239ba0ff96be68a749984a1d0f0fdb6158c4e27c47b22616c2f5e2eb3d022cb"
   }
  }
 },
 "nbformat": 4,
 "nbformat_minor": 2
}
